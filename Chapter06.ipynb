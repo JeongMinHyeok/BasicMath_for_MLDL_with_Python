{
 "cells": [
  {
   "cell_type": "code",
   "execution_count": 3,
   "id": "9674b371-8134-4a67-a622-de59a7654526",
   "metadata": {},
   "outputs": [],
   "source": [
    "# 기본적인 import들\n",
    "# 이후 그래프 그리는 코드에는 중복으로 적지 않음.\n",
    "# 다른 곳으로 그래프 그리는 코드를 복사-붙이기 할 때는 \n",
    "# 이 import 코드와 함께 복사-붙이기 해야함\n",
    "import numpy as np\n",
    "import matplotlib.pyplot as plt\n",
    "import matplotlib as mpl\n",
    "from mpl_toolkits import mplot3d\n",
    "import matplotlib.font_manager as mfm\n",
    "import sympy\n",
    "\n",
    "path = './noviceml/font/NanumBarunGothic.ttf'\n",
    "fontprop = mfm.FontProperties(fname=path, size=18)\n",
    "\n",
    "# numpy 출력 형식 지정\n",
    "np.set_printoptions(precision=4, linewidth=150)\n",
    "\n",
    "# matplotlib 스타일 지정\n",
    "mpl.style.use('bmh')\n",
    "mpl.style.use('seaborn-whitegrid')\n",
    "style = plt.style.library['bmh']\n",
    "# 스타일 컬러를 쉽게 쓸 수 있도록 리스트 저장\n",
    "style_colors = [ c['color'] for c in style['axes.prop_cycle'] ]\n",
    "\n",
    "# 그림을 로컬 폴더에 저장하고 싶으면 True로 수정 \n",
    "file_print = False"
   ]
  },
  {
   "cell_type": "markdown",
   "id": "5a1ed589-b307-4ab7-97b7-387a2371a44a",
   "metadata": {},
   "source": [
    "# 6장 수치미분과 자동미분 : 컴퓨터로 복잡한 미분을 간편하게\n",
    "- 직접미분의 개념과 코딩 (손으로 미분)\n",
    "- 수치미분의 개념과 코딩 (공식으로 간단히 미분)\n",
    "- 자동미분의 개념과 코딩 (연쇄법칙을 이용하여 미분)\n",
    "\n",
    "## 직접미분\n",
    "- 미분계수를 구하기 가장 확실한 방법은 미분계수를 구하고자 하는 함수를 직접 손으로 미분하는 것\n",
    "- 파이썬으로 함수와 도함수를 직접함수로 정의해서 사용\n",
    "    - f(x) = (x^2 + 2x)lnx 미분\n",
    "    - 도함수 : (2x + 2)lnx + (x + 2)\n",
    "- 최신 컴퓨터 대수학 시스템 (CAS)을 통해 미분 수행\n",
    "    - Python에는 Sympy라는 모듈로 계산"
   ]
  },
  {
   "cell_type": "code",
   "execution_count": 4,
   "id": "e0df929f-fdfd-4951-a02d-7489a1c7f6db",
   "metadata": {},
   "outputs": [
    {
     "data": {
      "text/latex": [
       "$\\displaystyle \\left(2 x + 2\\right) \\log{\\left(x \\right)} + \\frac{x^{2} + 2 x}{x}$"
      ],
      "text/plain": [
       "(2*x + 2)*log(x) + (x**2 + 2*x)/x"
      ]
     },
     "execution_count": 4,
     "metadata": {},
     "output_type": "execute_result"
    }
   ],
   "source": [
    "import sympy\n",
    "\n",
    "# 심파이에서 사용할 문자 선언, 변수 x는 심파이에 의해 연산에서 문자 x처럼 취급됨\n",
    "x = sympy.Symbol('x')\n",
    "\n",
    "# 미분식 정의\n",
    "f = (x**2 + 2*x)*sympy.log(x)\n",
    "\n",
    "# sympy.diff()로 f미분, 미분할 변수로 x지정\n",
    "# 미분할 변수가 여러 개라면 미분할 변수를 각각 다르게 지정하여 편도함수 계산가능\n",
    "df = sympy.diff(f, x)\n",
    "df"
   ]
  },
  {
   "cell_type": "code",
   "execution_count": 5,
   "id": "d0d6200d-b429-44fc-b67c-729eb7967f26",
   "metadata": {},
   "outputs": [
    {
     "data": {
      "text/latex": [
       "$\\displaystyle x + 2 \\left(x + 1\\right) \\log{\\left(x \\right)} + 2$"
      ],
      "text/plain": [
       "x + 2*(x + 1)*log(x) + 2"
      ]
     },
     "execution_count": 5,
     "metadata": {},
     "output_type": "execute_result"
    }
   ],
   "source": [
    "# sympy.simplify() 약분, 공통인수 묶어내기 등 식을 간단히 해주는 함수\n",
    "sympy.simplify(df)"
   ]
  },
  {
   "cell_type": "markdown",
   "id": "95dd09dc-dde3-4790-8010-ac459c5582ef",
   "metadata": {},
   "source": [
    "- 미분한 결과 확인했으므로, 함수로 정의해서 사용할 수 있음\n",
    "- 함수이름을 f라고 하면,\n",
    "    - 도함수는 df, f_dot, f_prime 같은 식으로 쓰는 편"
   ]
  },
  {
   "cell_type": "code",
   "execution_count": 6,
   "id": "04544a6e-5367-49e6-8d18-eaf4e57d29fe",
   "metadata": {},
   "outputs": [
    {
     "name": "stdout",
     "output_type": "stream",
     "text": [
      "0.0\n",
      "3.0\n"
     ]
    }
   ],
   "source": [
    "import numpy as np\n",
    "\n",
    "f = lambda x : (x**2 + 2*x)*np.log(x)\n",
    "df = lambda x : 2*(x+1)*np.log(x) + (x + 2)\n",
    "\n",
    "print(f(1))\n",
    "print(df(1))"
   ]
  },
  {
   "cell_type": "markdown",
   "id": "010ad0bd-17d6-4dc3-b231-f9452c54dfa0",
   "metadata": {},
   "source": [
    "- 독립변수가 수천 개씩 되는 스칼라 함수를 모두 미분해서 편도함수 구한다는 것은 비현실적\n",
    "- 미분계수만 구하는 상황이라면 다른 대안 생각해볼 수 있음\n",
    "\n",
    "## 수치미분\n",
    "- 특정 점에서 미분계수를 근사하는 방식\n",
    "    - 다변수 함수의 편미분계수를 근사하는 방식 두 가지\n",
    "    1. 전방 차분법\n",
    "    2. 중앙 차분법\n",
    "- 수치미분 사용할 때 주의해야 할 점 : 구해진 값이 근사값이라는 점\n",
    "    - 정확한 값과 근사 값의 차이 : 절단오차\n",
    "    - 절단오차를 줄이기 위해 독립변수의 변화를 줄이게 되면 반올림오차가 생김\n",
    "    - 주어진 함수가 미분계수를 구하고자 하는 위치 x에서 변화가 심하지 않은 경우 x의 10% 값을 설정하는 것이 괜찮은 선택\n",
    "    - 많은 공학용 계산기에서 x의 변화를 0.001로 선택하고 있음"
   ]
  },
  {
   "cell_type": "code",
   "execution_count": 7,
   "id": "26530602-5b4b-4586-b8b4-22bed36f6472",
   "metadata": {},
   "outputs": [],
   "source": [
    "############################################################\n",
    "# 수치미분함수\n",
    "############################################################\n",
    "def numer_deriv(f, x, h=0.001, method=\"center\") :\n",
    "    \"\"\"\n",
    "    {f(x+h) - f(x)} / h을 수치적으로 계산한다.\n",
    "    \n",
    "    \n",
    "    f      : 미분할 함수로 주어진 위치에서 함수값 계산을 위해 사용\n",
    "    x      : 미분계수를 구할 변수의 위치로 \n",
    "             일변수인 경우 int 또는 float \n",
    "             다변수인 경우 넘파이 어레이 (d,) 벡터\n",
    "    h      : 비율을 구할 작은 구간\n",
    "    \"\"\"\n",
    "    if type(x) in (float, int) :    # ---- [1] 일변수, 다변수 함수 모두 처리하기 위해 미분계수를 구할 위치가 스칼라인지 검사, float/int면 리스트로 감싸줌\n",
    "        grad = [0.0]\n",
    "        x_ = [x]\n",
    "        var_type = 'scalar'\n",
    "    else :\n",
    "        grad = np.zeros(x.shape)    # ---- [2] 만약 x가 벡터 형식이라면 미분계수를 담을 변수 grad를 x의 길이와 동일하게 준비, x를 x_로 한 벌 복사\n",
    "        x_ = x.copy().astype('float32') \n",
    "        var_type = 'vector'\n",
    "    \n",
    "    for i, xi in enumerate(x_) :    # ---- [3] 변수개수만큼 루프 (i는 인덱스)\n",
    "        original_value = x_[i]\n",
    "        \n",
    "        if method=='forward' :    # ---- [4] x_[i]에 h만큼 이동한 위치 저장\n",
    "            x_[i] = original_value + h\n",
    "        else :\n",
    "            x_[i] = original_value + (h/2)\n",
    "        \n",
    "        if var_type == 'scalar' :    # ---- [5] 이동한 위치 x_[i]에서 함숫값 계산, 식(6.3), (6.4)의 분자 첫 번째 항 계산 / 변수가 스칼라인지 벡터인지에 따라 함수 호출 다르게\n",
    "            gradplus = f(x_[i])\n",
    "        else :\n",
    "            gradplus = f(x_)\n",
    "        \n",
    "        if method=='forward' :    # ---- [6] 식 (6.3),(6.4)의 두번째 항을 계산하기 위해 [4],[5]rhkwjd qksqhr\n",
    "            x_[i] = original_value\n",
    "        else:\n",
    "            x_[i] = original_value - (h/2)\n",
    "        \n",
    "        if var_type == 'scalar' :\n",
    "            gradminus = f(x_[i])\n",
    "        else :\n",
    "            gradminus = f(x_)\n",
    "        \n",
    "        grad[i] = (gradplus - gradminus) / h    # ---- [7] 필요한 모든 것이 계산되었으므로 식 전체를 계산해서 i번째 미분계수를 grad[i]에 저장\n",
    "    \n",
    "    if var_type == 'scalar' :    # ---- [8] 변수의 타입에 따라 알맞은 형태로 미분계수 반환\n",
    "        return grad[0]\n",
    "    else :\n",
    "        return grad"
   ]
  },
  {
   "cell_type": "code",
   "execution_count": 8,
   "id": "225c4529-66d7-434a-be5c-d059c15b447a",
   "metadata": {},
   "outputs": [
    {
     "name": "stdout",
     "output_type": "stream",
     "text": [
      "2.999999999999666\n",
      "4.257383635135726\n",
      "2.9997299032915508\n"
     ]
    }
   ],
   "source": [
    "print(numer_deriv(f, 1))\n",
    "print(numer_deriv(f, 1, h=0.5, method=\"forward\"))\n",
    "print(numer_deriv(f, 1, h=0.5, method=\"center\"))"
   ]
  },
  {
   "cell_type": "markdown",
   "id": "38ace59c-553b-47b4-92bb-2aca65b6e129",
   "metadata": {},
   "source": [
    "- h를 크게 했을 때 전방 차분법은 오차가 커지지만, 중앙 차분법은 상대적으로 오차가 커지지 않음\n",
    "- 두 방법을 그림으로 표현"
   ]
  },
  {
   "cell_type": "code",
   "execution_count": 9,
   "id": "02c2ed6c-79af-4a38-8fc5-feee30dd53be",
   "metadata": {},
   "outputs": [
    {
     "data": {
      "image/png": "[encoded data removed]",
      "text/plain": [
       "<Figure size 1080x504 with 2 Axes>"
      ]
     },
     "metadata": {},
     "output_type": "display_data"
    }
   ],
   "source": [
    "f  = lambda x : (x**2 + 2*x)*np.log(x)\n",
    "df = lambda x : (2*x+2)*np.log(x) + (x+2)\n",
    "\n",
    "fig, (ax1, ax2) = plt.subplots(1, 2, sharex=True, sharey=True)\n",
    "fig.set_size_inches((15,7))\n",
    "\n",
    "ax1.xaxis.set_tick_params(labelsize=18)\n",
    "ax1.yaxis.set_tick_params(labelsize=18)\n",
    "ax1.set_xlabel(r'$x$', fontsize=25)\n",
    "ax1.set_ylabel(r'$y$', fontsize=25)\n",
    "ax1.grid(False)\n",
    "\n",
    "ax2.xaxis.set_tick_params(labelsize=18)\n",
    "ax2.yaxis.set_tick_params(labelsize=18)\n",
    "ax2.set_xlabel(r'$x$', fontsize=25)\n",
    "ax2.set_ylabel(r'$y$', fontsize=25)\n",
    "ax2.grid(False)\n",
    "\n",
    "x = np.linspace(0.6, 1.7, 100)\n",
    "x0 = 1.0\n",
    "h = 0.5\n",
    "\n",
    "ax1.plot(x, f(x), color='k', lw=1)\n",
    "ax1.set_title(\"전방 차분\", fontproperties=fontprop)\n",
    "ax1.plot(x0, f(x0), 'o', markersize=8, color='k', zorder=3)\n",
    "ax1.plot([x0-h, x0+h], [f(x0)-df(x0)*h, f(x0)+df(x0)*h], '--', lw=1, color='k')\n",
    "ax1.plot([x0, x0+h], [f(x0), f(x0+h)], lw=2, color='k')\n",
    "ax1.set_xlabel(r'$x$', fontsize=20)\n",
    "ax1.set_ylabel(r'$y$', fontsize=20)\n",
    "\n",
    "ax2.plot(x, f(x), color='k', lw=1)\n",
    "ax2.set_title(\"중앙 차분\", fontproperties=fontprop)\n",
    "ax2.plot(x0, f(x0), 'o', markersize=8, color='k', zorder=3)\n",
    "ax2.plot([x0-h, x0+h], [f(x0)-df(x0)*h, f(x0)+df(x0)*h], '--', lw=1, color='k')\n",
    "ax2.plot([x0-h/2, x0+h/2], [f(x0-h/2), f(x0+h/2)], lw=2, color='k')\n",
    "ax2.set_xlabel(r'$x$', fontsize=20)\n",
    "ax2.set_ylabel(r'$y$', fontsize=20)  \n",
    "\n",
    "if file_print == True :\n",
    "    fig.savefig(\"imgs/chap6/fig6-1.png\", dpi=300, bbox_inches='tight')\n",
    "    fig.savefig(\"imgs/chap6/fig6-1.pdf\", format='pdf', bbox_inches='tight')\n",
    "\n",
    "plt.show()"
   ]
  },
  {
   "attachments": {
    "c8adf151-85f0-41ac-a16a-b2736cbb6501.png": {
     "image/png": "[encoded data removed]"
    },
    "dc4c0ebb-9de6-4d04-8bb5-f7b72a08f47f.png": {
     "image/png": "[encoded data removed]"
    }
   },
   "cell_type": "markdown",
   "id": "6bb4e583-f094-4712-9d61-537eccb6898a",
   "metadata": {},
   "source": [
    "- 정확한 미분계수는 점선으로 표시된 직선의 기울기\n",
    "- 전방차분과 중앙차분이 구하는 미분계수는 실선으로 표시된 직선의 기울기\n",
    "\n",
    "#### 다변수 함수 편미분\n",
    "- 위의 코드로 다변수 함수 편미분 가능 (식 6.5)\n",
    "\n",
    "\n",
    "![image.png](attachment:dc4c0ebb-9de6-4d04-8bb5-f7b72a08f47f.png)![image.png](attachment:c8adf151-85f0-41ac-a16a-b2736cbb6501.png)"
   ]
  },
  {
   "cell_type": "code",
   "execution_count": 10,
   "id": "d660848f-370a-4c87-95d0-a9c826ac4811",
   "metadata": {},
   "outputs": [
    {
     "data": {
      "text/plain": [
       "array([2.7726, 1.4989])"
      ]
     },
     "execution_count": 10,
     "metadata": {},
     "output_type": "execute_result"
    }
   ],
   "source": [
    "f_xy  = lambda x : (x[0]**2 + 2*x[0])*np.log(x[1])\n",
    "numer_deriv(f_xy, np.array([1, 2]))"
   ]
  },
  {
   "cell_type": "markdown",
   "id": "40493b0d-4320-4617-9793-f9aa1532bccf",
   "metadata": {},
   "source": [
    "- 위 코드에서 x[0]와 x[1]은 식 (6.5)에서 x,y를 나타냄\n",
    "- 반환된 값은 각 변수에 대한 미분계수"
   ]
  },
  {
   "cell_type": "code",
   "execution_count": 11,
   "id": "674c73c9-6ce8-4e34-a432-114456213351",
   "metadata": {},
   "outputs": [
    {
     "name": "stdout",
     "output_type": "stream",
     "text": [
      "(2*x + 2)*log(y)\n",
      "(x**2 + 2*x)/y\n",
      "2.7726\n",
      "1.5000\n"
     ]
    }
   ],
   "source": [
    "x = sympy.Symbol('x') \n",
    "y = sympy.Symbol('y') \n",
    "f_xy_sympy = (x**2 + 2*x)*sympy.log(y) \n",
    "df_xy_x = sympy.diff(f_xy_sympy, x) \n",
    "df_xy_y = sympy.diff(f_xy_sympy, y)\n",
    "\n",
    "print(df_xy_x)\n",
    "print(df_xy_y)\n",
    "\n",
    "print(\"{:.4f}\".format(df_xy_x.evalf(subs={x:1.0, y:2.0}))) # 심파이에서 얻은 식에 숫자를 대입하여 결과 계산하려면 evalf()함수 호출하면서 subs 사전형 인자를 사용해 변수대입값 지정\n",
    "print(\"{:.4f}\".format(df_xy_y.evalf(subs={x:1.0, y:2.0})))"
   ]
  },
  {
   "cell_type": "markdown",
   "id": "37327355-15bb-46d1-89a8-da80271f4bf9",
   "metadata": {},
   "source": [
    "- 수치미분한 결과와 거의 비슷한 결과\n",
    "- 그러나 변수 개수만큼 루프를 돌면서 동일한 과정을 반복하므로 변수가 많아지면 속도가 현저히 느려짐\n",
    "\n",
    "## 자동미분\n",
    "- 연쇄법칙을 함수에 반복적으로 적용해 전체 함수에 대한 미분계수를 자동으로 계산\n",
    "- 연쇄법칙을 적용할 가장 기본이 되는 단위함수에 대해 직접 미분으로 코드 구현 해야 함\n",
    "\n",
    "### 파이토치로 자동미분하기"
   ]
  },
  {
   "cell_type": "code",
   "execution_count": 14,
   "id": "bb4c6661-b690-4d96-a59e-f8072f423895",
   "metadata": {},
   "outputs": [],
   "source": [
    "import torch # 파이토치 불러오기"
   ]
  },
  {
   "cell_type": "markdown",
   "id": "ca8ea710-5f6d-40db-8389-a1ac33e36b0e",
   "metadata": {},
   "source": [
    "#### 텐서\n",
    "- 인공지능 분야에서는 다차원 배열 (= np.array)\n",
    "- 파이토치에서 제공하는 자동미분 기능을 사용하기 위해서는 텐서 자료형에 데이터를 담아야 함"
   ]
  },
  {
   "cell_type": "code",
   "execution_count": 15,
   "id": "fb9b9cb5-3f0e-4aec-be1c-ca1236133755",
   "metadata": {},
   "outputs": [
    {
     "name": "stdout",
     "output_type": "stream",
     "text": [
      "[[0.5488 0.7152 0.6028]\n",
      " [0.5449 0.4237 0.6459]] float64\n",
      "tensor([[0.5488, 0.7152, 0.6028],\n",
      "        [0.5449, 0.4237, 0.6459]], dtype=torch.float64) torch.float64 False\n",
      "tensor([[0.5488, 0.7152, 0.6028],\n",
      "        [0.5449, 0.4237, 0.6459]], dtype=torch.float64) torch.float64 False\n",
      "tensor([[0.5488, 0.7152, 0.6028],\n",
      "        [0.5449, 0.4237, 0.6459]]) torch.float32 False\n",
      "tensor([[0.5488, 0.7152, 0.6028],\n",
      "        [0.5449, 0.4237, 0.6459]], dtype=torch.float64) torch.float64 False\n"
     ]
    }
   ],
   "source": [
    "np.random.seed(0) # 랜덤 어레이 생성에서 늘 같은 결과가 나오게 하기 위해\n",
    "\n",
    "x = np.random.rand(6).reshape(2,3)\n",
    "\n",
    "# np.array를 tensor로 바꿀때 자주 사용하는 몇 가지 방법\n",
    "x_tensor = torch.tensor(x)\n",
    "x_from_numpy = torch.from_numpy(x)\n",
    "x_Tensor = torch.Tensor(x)\n",
    "x_as_tensor = torch.as_tensor(x)\n",
    "\n",
    "# array와 tensor 출력, tensor는 숫자앞에 tensor표시\n",
    "# torch.Tensor() 빼고는 모두 원래 데이터 타입 유지(float64)\n",
    "print(x, x.dtype)\n",
    "print(x_tensor, x_tensor.dtype, x_tensor.requires_grad)\n",
    "print(x_from_numpy, x_from_numpy.dtype, x_from_numpy.requires_grad)\n",
    "print(x_Tensor, x_Tensor.dtype, x_Tensor.requires_grad)\n",
    "print(x_as_tensor, x_as_tensor.dtype, x_as_tensor.requires_grad)"
   ]
  },
  {
   "cell_type": "markdown",
   "id": "4526ed73",
   "metadata": {},
   "source": [
    "- 이 책에서는 텐서 생성을 위해 torch.tensor() 또는 torch.Tensor() 사용\n",
    "    - torch.Tensor()는 torch.FloatTensor()의 약칭이므로 데이터타입이 float32로 고정"
   ]
  },
  {
   "cell_type": "code",
   "execution_count": 16,
   "id": "c42d3fca",
   "metadata": {},
   "outputs": [
    {
     "name": "stdout",
     "output_type": "stream",
     "text": [
      "[[100.       0.7152   0.6028]\n",
      " [  0.5449   0.4237   0.6459]] float64\n",
      "tensor([[0.5488, 0.7152, 0.6028],\n",
      "        [0.5449, 0.4237, 0.6459]], dtype=torch.float64) torch.float64 False\n",
      "tensor([[100.0000,   0.7152,   0.6028],\n",
      "        [  0.5449,   0.4237,   0.6459]], dtype=torch.float64) torch.float64 False\n",
      "tensor([[0.5488, 0.7152, 0.6028],\n",
      "        [0.5449, 0.4237, 0.6459]]) torch.float32 False\n",
      "tensor([[100.0000,   0.7152,   0.6028],\n",
      "        [  0.5449,   0.4237,   0.6459]], dtype=torch.float64) torch.float64 False\n"
     ]
    }
   ],
   "source": [
    "x[0,0] = 100\n",
    "\n",
    "print(x, x.dtype)\n",
    "print(x_tensor, x_tensor.dtype, x_tensor.requires_grad)\n",
    "print(x_from_numpy, x_from_numpy.dtype, x_from_numpy.requires_grad)\n",
    "print(x_Tensor, x_Tensor.dtype, x_Tensor.requires_grad)\n",
    "print(x_as_tensor, x_as_tensor.dtype, x_as_tensor.requires_grad)"
   ]
  },
  {
   "cell_type": "markdown",
   "id": "6105998c",
   "metadata": {},
   "source": [
    "- np.array에서 데이터 요소를 하나 바꿨을 때 텐서에 일어나는 현상 확인\n",
    "    - torch.from_numpy()와 torch.as_tensor()의 경우에만 값이 함께 바뀜\n",
    "    - 위 두 방식만 어레이와 데이터를 공유, 나머지 방식은 데이터 복사하여 새롭게 텐서를 만든 것\n",
    "    \n",
    "- requires_grad\n",
    "    - 독립변수로 입력받는 함수 텐서로 자동미분하기 위해서는 이 항목이 True로 설정되어 있어야 함\n",
    "    - 다음처럼 텐서 생성"
   ]
  },
  {
   "cell_type": "code",
   "execution_count": 17,
   "id": "2fcfad07",
   "metadata": {},
   "outputs": [
    {
     "name": "stdout",
     "output_type": "stream",
     "text": [
      "tensor([[100.0000,   0.7152,   0.6028],\n",
      "        [  0.5449,   0.4237,   0.6459]], dtype=torch.float64,\n",
      "       requires_grad=True) torch.float64 True\n"
     ]
    }
   ],
   "source": [
    "x_tensor_grad = torch.tensor(x, requires_grad=True)\n",
    "\n",
    "print(x_tensor_grad, x_tensor_grad.dtype, x_tensor_grad.requires_grad)"
   ]
  },
  {
   "cell_type": "markdown",
   "id": "0db6c328",
   "metadata": {},
   "source": [
    "#### torch.autograd.backward\n",
    "- 파이토치에 있는 torch.autograd 모듈이 스칼라함수를 자동미분하는 기능제공\n",
    "    - .backward()와 .grad()를 사용하는 두가지 방법이 있음\n",
    "    \n",
    "- 함수식 (6.1)을 .backward()를 통해 미분\n",
    "    - f(x) = (x^2 + 2x)lnx\n",
    "    - 위 함수는 곱셈, 덧셈, 로그함수를 통해 계산되는 연산덩어리라고 할 수 있음\n",
    "    - backward()함수는 계산그래프의 끝에서 거꾸로 계산 그래프의 시작까지 거슬러 올라가며 사용자 변수에 대한 미분계수 구해줌"
   ]
  },
  {
   "cell_type": "code",
   "execution_count": 18,
   "id": "53ab5a8e",
   "metadata": {},
   "outputs": [
    {
     "name": "stdout",
     "output_type": "stream",
     "text": [
      "tensor([1.], requires_grad=True)\n",
      "tensor([0.], grad_fn=<MulBackward0>)\n",
      "None\n",
      "None\n",
      "<MulBackward0 object at 0x0000021A01C6F700>\n"
     ]
    }
   ],
   "source": [
    "x = torch.tensor([1.0], requires_grad=True) # 값이 1.0인 텐서형 변수 x 선언\n",
    "f = (x**2 + 2*x) * torch.log(x) # 식(6.1) 정의\n",
    "\n",
    "print(x)\n",
    "print(f)\n",
    "print(x.grad)\n",
    "\n",
    "print(x.grad_fn)\n",
    "print(f.grad_fn)"
   ]
  },
  {
   "cell_type": "code",
   "execution_count": 19,
   "id": "7ccfef0b",
   "metadata": {},
   "outputs": [
    {
     "name": "stdout",
     "output_type": "stream",
     "text": [
      "True\n"
     ]
    }
   ],
   "source": [
    "# x가 마지막 노드인가? \n",
    "# backward()함수는 마지막 노드까지 역전파하면서 미분계수를 구한다.\n",
    "print(x.is_leaf)"
   ]
  },
  {
   "cell_type": "markdown",
   "id": "1ac8145b",
   "metadata": {},
   "source": [
    "- x는 requires_grad = True로, 미분할 수 있는 변수임 (f를 x로 미분가능)\n",
    "- f는 계산된 값 0 출력, grad_fn 값 설정\n",
    "    - grad_fn이 MulBackward0로 설정된 것은 이 변수 값이 곱셈을 통해 계산되었으며, 곱셈미분법을 이용하여 미분계수 구할 수 있음\n",
    "- x.grad는 미분계수를 나타냄.\n",
    "    - None : 아직 계산되지 않았음"
   ]
  },
  {
   "cell_type": "code",
   "execution_count": 20,
   "id": "cce82b5b",
   "metadata": {},
   "outputs": [
    {
     "name": "stdout",
     "output_type": "stream",
     "text": [
      "tensor([3.])\n"
     ]
    }
   ],
   "source": [
    "torch.autograd.backward(f, grad_tensors=torch.tensor([1.]), retain_graph=True)\n",
    "print(x.grad)"
   ]
  },
  {
   "cell_type": "markdown",
   "id": "99431544",
   "metadata": {},
   "source": [
    "- backward()를 통해 미분을 할 때, 미분해야 하는 함수 f를 넘겨줌\n",
    "    - 함수가 실행되면 f값을 위해 계산에 참여한 변수에 대한 미분계수 구함\n",
    "    - 이 과정은 계산 그래프를 통해 수행되므로, 메모리에 미분을 위한 계산 그래프 구성\n",
    "    - 기본적으로 한 번 미분계수를 구하고 나서 계산그래프 삭제\n",
    "    - 미분반복을 위해 계산그래프를 유지하려고 할 때 retain_graph = True 지정\n",
    "\n",
    "- x.grad 값은 3이 출력됨\n",
    "\n",
    "#### torch.autograd.grad\n",
    "- grad() 함수가 배워온 미분과정과 더 잘 부합\n",
    "    - 종속변수와 미분할 변수 모두 명시적으로 지정해주고, 반환값으로 바로 미분계수 돌려받기 때문"
   ]
  },
  {
   "cell_type": "code",
   "execution_count": 21,
   "id": "17f19537",
   "metadata": {},
   "outputs": [
    {
     "name": "stdout",
     "output_type": "stream",
     "text": [
      "(tensor([3.]),)\n"
     ]
    }
   ],
   "source": [
    "df = torch.autograd.grad(f, x, retain_graph=True)\n",
    "print(df)"
   ]
  },
  {
   "cell_type": "markdown",
   "id": "ddbb1aeb",
   "metadata": {},
   "source": [
    "- torch.autograd.grad()에 f와 미분할 변수 x를 넘겨줌\n",
    "- backward()와는 다르게 반환값이 튜플로 묶여져 있음\n",
    "    - grad()함수에 미분하고자 하는 변수를 여러 개 지정할 수 있기 때문"
   ]
  },
  {
   "cell_type": "code",
   "execution_count": 22,
   "id": "bdb869c3",
   "metadata": {},
   "outputs": [
    {
     "name": "stdout",
     "output_type": "stream",
     "text": [
      "(tensor([3.]), tensor([3.]))\n"
     ]
    }
   ],
   "source": [
    "df = torch.autograd.grad(f,  (x, x), retain_graph=True)\n",
    "print(df)"
   ]
  },
  {
   "cell_type": "markdown",
   "id": "5815625f",
   "metadata": {},
   "source": [
    "- 식 (6.5)와 같이 이변수 함수라면 다음 코드처럼 미분"
   ]
  },
  {
   "cell_type": "code",
   "execution_count": 23,
   "id": "bb6d5452",
   "metadata": {},
   "outputs": [
    {
     "name": "stdout",
     "output_type": "stream",
     "text": [
      "tensor([2.7726])\n",
      "tensor([1.5000])\n",
      "(tensor([2.7726]), tensor([1.5000]))\n"
     ]
    }
   ],
   "source": [
    "x = torch.tensor([1.0], requires_grad=True)\n",
    "y = torch.tensor([2.0], requires_grad=True)\n",
    "f_xy = (x**2 + 2*x) * torch.log(y)\n",
    "\n",
    "torch.autograd.backward(f_xy, retain_graph=True)\n",
    "print(x.grad)\n",
    "print(y.grad)\n",
    "\n",
    "df = torch.autograd.grad(f_xy, (x,y), retain_graph=True)\n",
    "print(df)"
   ]
  },
  {
   "cell_type": "markdown",
   "id": "746f4c64",
   "metadata": {},
   "source": [
    "- backward()를 수행한 경우 참여변수 x,y에 대한 미분계수를 x.grad, y.grad에 자동저장\n",
    "- grad()는 호출 시 미분하고자 하는 변수를 명시적으로 지정, 반환값도 미분계수의 튜플로 반환\n",
    "- 결과는 sympy로 구한 미분계수와 일치"
   ]
  },
  {
   "cell_type": "markdown",
   "id": "b01f1886",
   "metadata": {},
   "source": [
    "### 자동미분 간단예제\n",
    "- 자동미분을 구현하는 방법은 포워드 모드와 리버스 모드 두 가지 방식\n",
    "    - 두 방식 모두 미분하고자 하는 함수를 계산 그래프로 만들어 미분계수를 계산하는데 이용\n",
    "    - 계산그래프 기준 왼쪽에서 오른쪽으로 진행시키는 경로를 포워드 패스라고 함 (= 순전파, forward propagation)\n",
    "    - 반대로 오른쪽에서 왼쪽으로 진행하는 경로를 백워드 패스라고 함 (= 역전파, back propagation)\n",
    "\n",
    "- 책에서는 역전파만 다룸\n",
    "\n",
    "#### 연쇄법칙 복습\n",
    "- 연쇄법칙은 합성된 각 함수에 대한 도함수를 서로 곱하는 것\n",
    "- '자기 자신에 대한 입력으로 미분한 결과를 서로 곱한다'\n",
    "\n",
    "#### 연쇄법칙의 다변수 함수 확장\n",
    "- z = x * y의 예시 (책 p.154 ~ 155)\n",
    "\n",
    "#### 자동미분 구현\n",
    "- 전체 함수를 구성하고 있는 작은 단위 함수에 대한 미분계수를 알면 그것을 반복적으로 곱하면서 전체함수의 미분계수 구할 수 있음\n",
    "- 식(6.5) 미분 코드\n",
    "    - 기본적인 단위 함수의 함숫값과 도함숫값을 구하는 코드 필요\n",
    "    - 식 (6.5)에는 곱셈, 덧셈, 로그연산이 있으므로 각 경우에 대해 편도함수를 구할 수 있어야 함"
   ]
  },
  {
   "cell_type": "code",
   "execution_count": 24,
   "id": "7ac7a64c",
   "metadata": {},
   "outputs": [
    {
     "name": "stdout",
     "output_type": "stream",
     "text": [
      "dx=3, dy=2\n"
     ]
    }
   ],
   "source": [
    "# 곱셈 구현\n",
    "\n",
    "# 두 값을 넘겨받아 곱을 반환하는 함수\n",
    "def times(x, y):\n",
    "    return x*y, (x,y) # 미분하는데 필요한 정보 함숫값과 함께 넘겨줌\n",
    "\n",
    "def times_deriv(cache, dout=1):\n",
    "    return cache[1]*dout, cache[0]*dout # 도함수의 정의, cache와 상류층 미분계수 dout을 넘겨받아 미분계수 계산\n",
    "                                         # 입력의 위치를 바꾸고 상류층 미분계수 dout을 곱해서 반환 (기본값 = 1)\n",
    "\n",
    "TIMES = {'f': times, 'df': times_deriv} # TIMES라는 dictionary에 곱셈함수를 키 값 f로 저장\n",
    "\n",
    "v, cache = TIMES['f'](2,3) # 방금 만든 함수 호출하여 함숫갑소가 미분계수 계산하기위한 정보를 v, cache라는 변수에 저장\n",
    "dx, dy = TIMES['df'](cache) # TIMES['df']에 저장된 함수 호출하여 미분계수 계산\n",
    "\n",
    "print(\"dx={}, dy={}\".format(dx, dy))"
   ]
  },
  {
   "cell_type": "code",
   "execution_count": 25,
   "id": "1b968d00",
   "metadata": {},
   "outputs": [],
   "source": [
    "# 덧셈 및 로그도 위와 비슷하게 구현\n",
    "\n",
    "def add(x, y):\n",
    "    return x+y, (x,y)\n",
    "\n",
    "def add_deriv(cache, dout=1):\n",
    "    return dout, dout\n",
    "\n",
    "ADD = {'f': add, 'df': add_deriv}\n",
    "\n",
    "def log(x):\n",
    "    return np.log(x), x\n",
    "\n",
    "def log_deriv(cache, dout=1):\n",
    "    return (1/cache)*dout\n",
    "\n",
    "LOG = {'f': log, 'df': log_deriv}"
   ]
  },
  {
   "cell_type": "markdown",
   "id": "97f99237",
   "metadata": {},
   "source": [
    "- 덧셈 함수는 각 변수에 대해 편미분하면 미분계수가 항상 1임\n",
    "    - 항상 상류층 미분계수를 그냥 반환하면 됨\n",
    "    - cache인자가 필요없지만, 인터페이스 통일을 위해 적음\n",
    "\n",
    "- 로그함수는 로그미분 공식 ln(x))' = 1/x 그대로 사용"
   ]
  },
  {
   "cell_type": "code",
   "execution_count": 26,
   "id": "90856d47",
   "metadata": {},
   "outputs": [
    {
     "name": "stdout",
     "output_type": "stream",
     "text": [
      "forward pass f(x) = 2.079442\n",
      "backward pass dx = 2.772589, dy = 1.500000\n"
     ]
    }
   ],
   "source": [
    "# 식 (6.5) 미분\n",
    "\n",
    "x = 1.; y = 2.\n",
    "\n",
    "# 단위함수 순전파, 각 단계마다 함숫값과 추가 정보를 적절한 변수에 저장\n",
    "a, cache_a = TIMES['f'](x, x)\n",
    "b, cache_b = TIMES['f'](2, x)\n",
    "c, cache_c = ADD['f'](a, b)\n",
    "d, cache_d = LOG['f'](y)\n",
    "z, cache_z = TIMES['f'](c, d)\n",
    "\n",
    "print(\"forward pass f(x) = {:.6f}\".format(z))\n",
    "\n",
    "\n",
    "dx = dy = 0. # 미분계수 저장할 변수 초기화\n",
    "dc, dd = TIMES['df'](cache_z, 1) # 마지막 곱셈함수 호출하면서 미분계수 계산, 마지막 곱셈함수 입력 c,d 였으므로 미분계수는 두 개\n",
    "dy = LOG['df'](cache_d, dd) # cache_d와 dd를 이용하여 로그함수에 대한 미분계수 구함\n",
    "da, db = ADD['df'](cache_c, dc)\n",
    "_, dx_ = TIMES['df'](cache_b, db); dx+=dx_; # 곱셈도 같은 방식으로 미분, 상수 2에 대한 미분계수에는 관심 없으므로 _라는 변수에 저장\n",
    "dx_, dx__ = TIMES['df'](cache_a, da); dx+=dx_+dx__;\n",
    "\n",
    "\n",
    "print(\"backward pass dx = {:.6f}, dy = {:.6f}\".format(dx, dy))\n"
   ]
  },
  {
   "cell_type": "markdown",
   "id": "3372e8f3",
   "metadata": {},
   "source": [
    "- 파이토치로 상류층 미분계수를 2로 주고 미분한 경우"
   ]
  },
  {
   "cell_type": "code",
   "execution_count": 27,
   "id": "d8bec3dc",
   "metadata": {},
   "outputs": [
    {
     "name": "stdout",
     "output_type": "stream",
     "text": [
      "(tensor([5.5452]), tensor([3.]))\n"
     ]
    }
   ],
   "source": [
    "x = torch.tensor([1.], requires_grad=True)\n",
    "y = torch.tensor([2.], requires_grad=True)\n",
    "\n",
    "z = (x**2 + 2*x)*torch.log(y)\n",
    "\n",
    "dz = torch.autograd.grad(z, (x,y), grad_outputs=torch.tensor([2.]), retain_graph=True)\n",
    "print(dz)"
   ]
  },
  {
   "cell_type": "code",
   "execution_count": null,
   "id": "33c3acbb",
   "metadata": {},
   "outputs": [],
   "source": []
  }
 ],
 "metadata": {
  "kernelspec": {
   "display_name": "Python 3 (ipykernel)",
   "language": "python",
   "name": "python3"
  },
  "language_info": {
   "codemirror_mode": {
    "name": "ipython",
    "version": 3
   },
   "file_extension": ".py",
   "mimetype": "text/x-python",
   "name": "python",
   "nbconvert_exporter": "python",
   "pygments_lexer": "ipython3",
   "version": "3.9.6"
  }
 },
 "nbformat": 4,
 "nbformat_minor": 5
}
